{
  "cells": [
    {
      "cell_type": "markdown",
      "id": "ce890d09-47e8-465f-9925-025a8548d171",
      "metadata": {
        "id": "ce890d09-47e8-465f-9925-025a8548d171"
      },
      "source": [
        "# Libraries"
      ]
    },
    {
      "cell_type": "code",
      "source": [
        "from google.colab import drive\n",
        "drive.mount('/content/drive')\n"
      ],
      "metadata": {
        "colab": {
          "base_uri": "https://localhost:8080/"
        },
        "id": "ZYaQAbJUpuCh",
        "outputId": "f9d4b256-329b-47f1-bfcb-a2b5afb07d55"
      },
      "id": "ZYaQAbJUpuCh",
      "execution_count": null,
      "outputs": [
        {
          "output_type": "stream",
          "name": "stdout",
          "text": [
            "Drive already mounted at /content/drive; to attempt to forcibly remount, call drive.mount(\"/content/drive\", force_remount=True).\n"
          ]
        }
      ]
    },
    {
      "cell_type": "code",
      "execution_count": null,
      "id": "50e3867a-0d20-4098-94a8-93ad8a1c4767",
      "metadata": {
        "id": "50e3867a-0d20-4098-94a8-93ad8a1c4767"
      },
      "outputs": [],
      "source": [
        "import re\n",
        "import pandas as pd\n",
        "from datasets import Dataset\n",
        "from transformers import DistilBertTokenizer, DistilBertForSequenceClassification, Trainer, TrainingArguments\n",
        "from sklearn.model_selection import train_test_split\n",
        "import torch\n",
        "from sklearn.metrics import accuracy_score, precision_recall_fscore_support\n",
        "import warnings\n",
        "warnings.filterwarnings(\"ignore\")"
      ]
    },
    {
      "cell_type": "markdown",
      "id": "f34c75fb-b8c9-4483-8b80-3b7fa6b0a27f",
      "metadata": {
        "id": "f34c75fb-b8c9-4483-8b80-3b7fa6b0a27f"
      },
      "source": [
        "# Loading Data"
      ]
    },
    {
      "cell_type": "code",
      "execution_count": null,
      "id": "e0a9be49-58ad-44fc-95eb-00b341bcd81b",
      "metadata": {
        "id": "e0a9be49-58ad-44fc-95eb-00b341bcd81b"
      },
      "outputs": [],
      "source": [
        "fake= pd.read_csv(\"/content/drive/MyDrive/Colab Notebooks/Fake.csv\")\n",
        "true= pd.read_csv(\"/content/drive/MyDrive/Colab Notebooks/True.csv\")"
      ]
    },
    {
      "cell_type": "code",
      "execution_count": null,
      "id": "ab2fbbf7-8d86-4a53-b6d0-393dc49dbf02",
      "metadata": {
        "id": "ab2fbbf7-8d86-4a53-b6d0-393dc49dbf02"
      },
      "outputs": [],
      "source": [
        "fake.drop(columns=[\"title\",\"date\",\"subject\"],inplace=True)\n",
        "true.drop(columns=[\"title\",\"date\",\"subject\"],inplace=True)"
      ]
    },
    {
      "cell_type": "code",
      "execution_count": null,
      "id": "61b5e213-dfb9-4c9c-99b9-410bcdb4aab4",
      "metadata": {
        "id": "61b5e213-dfb9-4c9c-99b9-410bcdb4aab4"
      },
      "outputs": [],
      "source": [
        "true['label'] = 0\n",
        "fake['label'] = 1"
      ]
    },
    {
      "cell_type": "code",
      "execution_count": null,
      "id": "bcce5cdb-4869-47ca-aae2-4b9d4d708fec",
      "metadata": {
        "colab": {
          "base_uri": "https://localhost:8080/"
        },
        "id": "bcce5cdb-4869-47ca-aae2-4b9d4d708fec",
        "outputId": "5499f96e-e73d-4ac1-d5cc-cde3981ff5cc"
      },
      "outputs": [
        {
          "output_type": "stream",
          "name": "stdout",
          "text": [
            "Fake News : (23481, 2)\n",
            "Real News : (21417, 2)\n"
          ]
        }
      ],
      "source": [
        "print(f\"Fake News : {fake.shape}\")\n",
        "print(f\"Real News : {true.shape}\")"
      ]
    },
    {
      "cell_type": "code",
      "execution_count": null,
      "id": "baaa1789-5762-4da2-b9c8-a2c099f969f2",
      "metadata": {
        "id": "baaa1789-5762-4da2-b9c8-a2c099f969f2"
      },
      "outputs": [],
      "source": [
        "df = pd.concat([true,fake])"
      ]
    },
    {
      "cell_type": "code",
      "execution_count": null,
      "id": "0124d170-0d72-4360-bab5-81a92a606bbe",
      "metadata": {
        "id": "0124d170-0d72-4360-bab5-81a92a606bbe"
      },
      "outputs": [],
      "source": [
        "df =df.sample(frac=1, random_state=2000).reset_index(drop=True)"
      ]
    },
    {
      "cell_type": "code",
      "execution_count": null,
      "id": "9820a784-d887-4be7-8851-bfa6d6f21fc7",
      "metadata": {
        "colab": {
          "base_uri": "https://localhost:8080/"
        },
        "id": "9820a784-d887-4be7-8851-bfa6d6f21fc7",
        "outputId": "c0652b24-c8f7-4938-c605-1e8e73f09fe9"
      },
      "outputs": [
        {
          "output_type": "stream",
          "name": "stdout",
          "text": [
            "dataset shape : (44898, 2)\n"
          ]
        }
      ],
      "source": [
        "print(f\"dataset shape : {df.shape}\")"
      ]
    },
    {
      "cell_type": "markdown",
      "id": "149ce6ef-907b-4c86-b294-0260cdf7d1a8",
      "metadata": {
        "id": "149ce6ef-907b-4c86-b294-0260cdf7d1a8"
      },
      "source": [
        "# Preprocessing"
      ]
    },
    {
      "cell_type": "code",
      "execution_count": null,
      "id": "1db72b0d-dc27-4ecd-b86b-9d2bad3ad50a",
      "metadata": {
        "colab": {
          "base_uri": "https://localhost:8080/",
          "height": 147
        },
        "id": "1db72b0d-dc27-4ecd-b86b-9d2bad3ad50a",
        "outputId": "5622617d-8def-47d2-9b34-e9788d1c6b60"
      },
      "outputs": [
        {
          "output_type": "execute_result",
          "data": {
            "text/plain": [
              "text                                                   ...\n",
              "label                                                  630\n",
              "dtype: object"
            ],
            "text/html": [
              "<div>\n",
              "<style scoped>\n",
              "    .dataframe tbody tr th:only-of-type {\n",
              "        vertical-align: middle;\n",
              "    }\n",
              "\n",
              "    .dataframe tbody tr th {\n",
              "        vertical-align: top;\n",
              "    }\n",
              "\n",
              "    .dataframe thead th {\n",
              "        text-align: right;\n",
              "    }\n",
              "</style>\n",
              "<table border=\"1\" class=\"dataframe\">\n",
              "  <thead>\n",
              "    <tr style=\"text-align: right;\">\n",
              "      <th></th>\n",
              "      <th>0</th>\n",
              "    </tr>\n",
              "  </thead>\n",
              "  <tbody>\n",
              "    <tr>\n",
              "      <th>text</th>\n",
              "      <td>...</td>\n",
              "    </tr>\n",
              "    <tr>\n",
              "      <th>label</th>\n",
              "      <td>630</td>\n",
              "    </tr>\n",
              "  </tbody>\n",
              "</table>\n",
              "</div><br><label><b>dtype:</b> object</label>"
            ]
          },
          "metadata": {},
          "execution_count": 11
        }
      ],
      "source": [
        "df[df['text'].isna() | (df['text'].str.strip() == '')].sum()"
      ]
    },
    {
      "cell_type": "code",
      "execution_count": null,
      "id": "4fdbda2e-bd46-4771-b4c0-f5f98be155de",
      "metadata": {
        "colab": {
          "base_uri": "https://localhost:8080/"
        },
        "id": "4fdbda2e-bd46-4771-b4c0-f5f98be155de",
        "outputId": "de6482a9-68a1-4378-f40d-8db11ab514ab"
      },
      "outputs": [
        {
          "output_type": "execute_result",
          "data": {
            "text/plain": [
              "(44267, 2)"
            ]
          },
          "metadata": {},
          "execution_count": 12
        }
      ],
      "source": [
        "df = df.drop(df[df['text'].isna() | (df['text'].str.strip() == '')].index)\n",
        "df.shape"
      ]
    },
    {
      "cell_type": "code",
      "execution_count": null,
      "id": "38b2581d-986a-40c5-a397-6265fd176006",
      "metadata": {
        "colab": {
          "base_uri": "https://localhost:8080/"
        },
        "id": "38b2581d-986a-40c5-a397-6265fd176006",
        "outputId": "9526c480-6e4d-462f-d060-81b7c450c197"
      },
      "outputs": [
        {
          "output_type": "execute_result",
          "data": {
            "text/plain": [
              "(38644, 2)"
            ]
          },
          "metadata": {},
          "execution_count": 13
        }
      ],
      "source": [
        "news = df.drop_duplicates().copy()\n",
        "news.shape"
      ]
    },
    {
      "cell_type": "code",
      "execution_count": null,
      "id": "6e8461d4-f975-4723-9bec-594911828236",
      "metadata": {
        "id": "6e8461d4-f975-4723-9bec-594911828236"
      },
      "outputs": [],
      "source": [
        "def preprocessing(text):\n",
        "    text = text.lower()\n",
        "    text = re.sub(r'https?://\\S+|www\\.\\S+', '', text)\n",
        "    text = re.sub(r'<.*?>', '', text)\n",
        "    text = re.sub(r'[^a-z\\s]', ' ', text)\n",
        "    text = re.sub(r'\\s+', ' ', text).strip()\n",
        "    return text"
      ]
    },
    {
      "cell_type": "markdown",
      "id": "7039a57b-d71b-4453-b934-dbe43cbbe322",
      "metadata": {
        "id": "7039a57b-d71b-4453-b934-dbe43cbbe322"
      },
      "source": [
        "### Stop Words are important in context so we will keep it"
      ]
    },
    {
      "cell_type": "code",
      "execution_count": null,
      "id": "2247780c-4efe-4058-8b4d-50adceda2ca1",
      "metadata": {
        "colab": {
          "base_uri": "https://localhost:8080/",
          "height": 206
        },
        "id": "2247780c-4efe-4058-8b4d-50adceda2ca1",
        "outputId": "891f54de-198e-4f54-a6be-483e38a65b44"
      },
      "outputs": [
        {
          "output_type": "execute_result",
          "data": {
            "text/plain": [
              "                                                text  label  \\\n",
              "0  We know Trump is a sexual predator. We know he...      1   \n",
              "1   William McGurn Wall Street JournalLet s get t...      1   \n",
              "2  WASHINGTON (Reuters) - Iraqi Prime Minister Ha...      0   \n",
              "3  WASHINGTON (Reuters) - President Donald Trump ...      0   \n",
              "4  Hillary was Secretary of State an unimaginable...      1   \n",
              "\n",
              "                                           processed  \n",
              "0  we know trump is a sexual predator we know he ...  \n",
              "1  william mcgurn wall street journallet s get th...  \n",
              "2  washington reuters iraqi prime minister haider...  \n",
              "3  washington reuters president donald trump spok...  \n",
              "4  hillary was secretary of state an unimaginable...  "
            ],
            "text/html": [
              "\n",
              "  <div id=\"df-718cc3c2-5b03-4582-ba6c-d9cf56fc48d7\" class=\"colab-df-container\">\n",
              "    <div>\n",
              "<style scoped>\n",
              "    .dataframe tbody tr th:only-of-type {\n",
              "        vertical-align: middle;\n",
              "    }\n",
              "\n",
              "    .dataframe tbody tr th {\n",
              "        vertical-align: top;\n",
              "    }\n",
              "\n",
              "    .dataframe thead th {\n",
              "        text-align: right;\n",
              "    }\n",
              "</style>\n",
              "<table border=\"1\" class=\"dataframe\">\n",
              "  <thead>\n",
              "    <tr style=\"text-align: right;\">\n",
              "      <th></th>\n",
              "      <th>text</th>\n",
              "      <th>label</th>\n",
              "      <th>processed</th>\n",
              "    </tr>\n",
              "  </thead>\n",
              "  <tbody>\n",
              "    <tr>\n",
              "      <th>0</th>\n",
              "      <td>We know Trump is a sexual predator. We know he...</td>\n",
              "      <td>1</td>\n",
              "      <td>we know trump is a sexual predator we know he ...</td>\n",
              "    </tr>\n",
              "    <tr>\n",
              "      <th>1</th>\n",
              "      <td>William McGurn Wall Street JournalLet s get t...</td>\n",
              "      <td>1</td>\n",
              "      <td>william mcgurn wall street journallet s get th...</td>\n",
              "    </tr>\n",
              "    <tr>\n",
              "      <th>2</th>\n",
              "      <td>WASHINGTON (Reuters) - Iraqi Prime Minister Ha...</td>\n",
              "      <td>0</td>\n",
              "      <td>washington reuters iraqi prime minister haider...</td>\n",
              "    </tr>\n",
              "    <tr>\n",
              "      <th>3</th>\n",
              "      <td>WASHINGTON (Reuters) - President Donald Trump ...</td>\n",
              "      <td>0</td>\n",
              "      <td>washington reuters president donald trump spok...</td>\n",
              "    </tr>\n",
              "    <tr>\n",
              "      <th>4</th>\n",
              "      <td>Hillary was Secretary of State an unimaginable...</td>\n",
              "      <td>1</td>\n",
              "      <td>hillary was secretary of state an unimaginable...</td>\n",
              "    </tr>\n",
              "  </tbody>\n",
              "</table>\n",
              "</div>\n",
              "    <div class=\"colab-df-buttons\">\n",
              "\n",
              "  <div class=\"colab-df-container\">\n",
              "    <button class=\"colab-df-convert\" onclick=\"convertToInteractive('df-718cc3c2-5b03-4582-ba6c-d9cf56fc48d7')\"\n",
              "            title=\"Convert this dataframe to an interactive table.\"\n",
              "            style=\"display:none;\">\n",
              "\n",
              "  <svg xmlns=\"http://www.w3.org/2000/svg\" height=\"24px\" viewBox=\"0 -960 960 960\">\n",
              "    <path d=\"M120-120v-720h720v720H120Zm60-500h600v-160H180v160Zm220 220h160v-160H400v160Zm0 220h160v-160H400v160ZM180-400h160v-160H180v160Zm440 0h160v-160H620v160ZM180-180h160v-160H180v160Zm440 0h160v-160H620v160Z\"/>\n",
              "  </svg>\n",
              "    </button>\n",
              "\n",
              "  <style>\n",
              "    .colab-df-container {\n",
              "      display:flex;\n",
              "      gap: 12px;\n",
              "    }\n",
              "\n",
              "    .colab-df-convert {\n",
              "      background-color: #E8F0FE;\n",
              "      border: none;\n",
              "      border-radius: 50%;\n",
              "      cursor: pointer;\n",
              "      display: none;\n",
              "      fill: #1967D2;\n",
              "      height: 32px;\n",
              "      padding: 0 0 0 0;\n",
              "      width: 32px;\n",
              "    }\n",
              "\n",
              "    .colab-df-convert:hover {\n",
              "      background-color: #E2EBFA;\n",
              "      box-shadow: 0px 1px 2px rgba(60, 64, 67, 0.3), 0px 1px 3px 1px rgba(60, 64, 67, 0.15);\n",
              "      fill: #174EA6;\n",
              "    }\n",
              "\n",
              "    .colab-df-buttons div {\n",
              "      margin-bottom: 4px;\n",
              "    }\n",
              "\n",
              "    [theme=dark] .colab-df-convert {\n",
              "      background-color: #3B4455;\n",
              "      fill: #D2E3FC;\n",
              "    }\n",
              "\n",
              "    [theme=dark] .colab-df-convert:hover {\n",
              "      background-color: #434B5C;\n",
              "      box-shadow: 0px 1px 3px 1px rgba(0, 0, 0, 0.15);\n",
              "      filter: drop-shadow(0px 1px 2px rgba(0, 0, 0, 0.3));\n",
              "      fill: #FFFFFF;\n",
              "    }\n",
              "  </style>\n",
              "\n",
              "    <script>\n",
              "      const buttonEl =\n",
              "        document.querySelector('#df-718cc3c2-5b03-4582-ba6c-d9cf56fc48d7 button.colab-df-convert');\n",
              "      buttonEl.style.display =\n",
              "        google.colab.kernel.accessAllowed ? 'block' : 'none';\n",
              "\n",
              "      async function convertToInteractive(key) {\n",
              "        const element = document.querySelector('#df-718cc3c2-5b03-4582-ba6c-d9cf56fc48d7');\n",
              "        const dataTable =\n",
              "          await google.colab.kernel.invokeFunction('convertToInteractive',\n",
              "                                                    [key], {});\n",
              "        if (!dataTable) return;\n",
              "\n",
              "        const docLinkHtml = 'Like what you see? Visit the ' +\n",
              "          '<a target=\"_blank\" href=https://colab.research.google.com/notebooks/data_table.ipynb>data table notebook</a>'\n",
              "          + ' to learn more about interactive tables.';\n",
              "        element.innerHTML = '';\n",
              "        dataTable['output_type'] = 'display_data';\n",
              "        await google.colab.output.renderOutput(dataTable, element);\n",
              "        const docLink = document.createElement('div');\n",
              "        docLink.innerHTML = docLinkHtml;\n",
              "        element.appendChild(docLink);\n",
              "      }\n",
              "    </script>\n",
              "  </div>\n",
              "\n",
              "\n",
              "    <div id=\"df-820f80ef-639b-465b-af1a-5746bf7be333\">\n",
              "      <button class=\"colab-df-quickchart\" onclick=\"quickchart('df-820f80ef-639b-465b-af1a-5746bf7be333')\"\n",
              "                title=\"Suggest charts\"\n",
              "                style=\"display:none;\">\n",
              "\n",
              "<svg xmlns=\"http://www.w3.org/2000/svg\" height=\"24px\"viewBox=\"0 0 24 24\"\n",
              "     width=\"24px\">\n",
              "    <g>\n",
              "        <path d=\"M19 3H5c-1.1 0-2 .9-2 2v14c0 1.1.9 2 2 2h14c1.1 0 2-.9 2-2V5c0-1.1-.9-2-2-2zM9 17H7v-7h2v7zm4 0h-2V7h2v10zm4 0h-2v-4h2v4z\"/>\n",
              "    </g>\n",
              "</svg>\n",
              "      </button>\n",
              "\n",
              "<style>\n",
              "  .colab-df-quickchart {\n",
              "      --bg-color: #E8F0FE;\n",
              "      --fill-color: #1967D2;\n",
              "      --hover-bg-color: #E2EBFA;\n",
              "      --hover-fill-color: #174EA6;\n",
              "      --disabled-fill-color: #AAA;\n",
              "      --disabled-bg-color: #DDD;\n",
              "  }\n",
              "\n",
              "  [theme=dark] .colab-df-quickchart {\n",
              "      --bg-color: #3B4455;\n",
              "      --fill-color: #D2E3FC;\n",
              "      --hover-bg-color: #434B5C;\n",
              "      --hover-fill-color: #FFFFFF;\n",
              "      --disabled-bg-color: #3B4455;\n",
              "      --disabled-fill-color: #666;\n",
              "  }\n",
              "\n",
              "  .colab-df-quickchart {\n",
              "    background-color: var(--bg-color);\n",
              "    border: none;\n",
              "    border-radius: 50%;\n",
              "    cursor: pointer;\n",
              "    display: none;\n",
              "    fill: var(--fill-color);\n",
              "    height: 32px;\n",
              "    padding: 0;\n",
              "    width: 32px;\n",
              "  }\n",
              "\n",
              "  .colab-df-quickchart:hover {\n",
              "    background-color: var(--hover-bg-color);\n",
              "    box-shadow: 0 1px 2px rgba(60, 64, 67, 0.3), 0 1px 3px 1px rgba(60, 64, 67, 0.15);\n",
              "    fill: var(--button-hover-fill-color);\n",
              "  }\n",
              "\n",
              "  .colab-df-quickchart-complete:disabled,\n",
              "  .colab-df-quickchart-complete:disabled:hover {\n",
              "    background-color: var(--disabled-bg-color);\n",
              "    fill: var(--disabled-fill-color);\n",
              "    box-shadow: none;\n",
              "  }\n",
              "\n",
              "  .colab-df-spinner {\n",
              "    border: 2px solid var(--fill-color);\n",
              "    border-color: transparent;\n",
              "    border-bottom-color: var(--fill-color);\n",
              "    animation:\n",
              "      spin 1s steps(1) infinite;\n",
              "  }\n",
              "\n",
              "  @keyframes spin {\n",
              "    0% {\n",
              "      border-color: transparent;\n",
              "      border-bottom-color: var(--fill-color);\n",
              "      border-left-color: var(--fill-color);\n",
              "    }\n",
              "    20% {\n",
              "      border-color: transparent;\n",
              "      border-left-color: var(--fill-color);\n",
              "      border-top-color: var(--fill-color);\n",
              "    }\n",
              "    30% {\n",
              "      border-color: transparent;\n",
              "      border-left-color: var(--fill-color);\n",
              "      border-top-color: var(--fill-color);\n",
              "      border-right-color: var(--fill-color);\n",
              "    }\n",
              "    40% {\n",
              "      border-color: transparent;\n",
              "      border-right-color: var(--fill-color);\n",
              "      border-top-color: var(--fill-color);\n",
              "    }\n",
              "    60% {\n",
              "      border-color: transparent;\n",
              "      border-right-color: var(--fill-color);\n",
              "    }\n",
              "    80% {\n",
              "      border-color: transparent;\n",
              "      border-right-color: var(--fill-color);\n",
              "      border-bottom-color: var(--fill-color);\n",
              "    }\n",
              "    90% {\n",
              "      border-color: transparent;\n",
              "      border-bottom-color: var(--fill-color);\n",
              "    }\n",
              "  }\n",
              "</style>\n",
              "\n",
              "      <script>\n",
              "        async function quickchart(key) {\n",
              "          const quickchartButtonEl =\n",
              "            document.querySelector('#' + key + ' button');\n",
              "          quickchartButtonEl.disabled = true;  // To prevent multiple clicks.\n",
              "          quickchartButtonEl.classList.add('colab-df-spinner');\n",
              "          try {\n",
              "            const charts = await google.colab.kernel.invokeFunction(\n",
              "                'suggestCharts', [key], {});\n",
              "          } catch (error) {\n",
              "            console.error('Error during call to suggestCharts:', error);\n",
              "          }\n",
              "          quickchartButtonEl.classList.remove('colab-df-spinner');\n",
              "          quickchartButtonEl.classList.add('colab-df-quickchart-complete');\n",
              "        }\n",
              "        (() => {\n",
              "          let quickchartButtonEl =\n",
              "            document.querySelector('#df-820f80ef-639b-465b-af1a-5746bf7be333 button');\n",
              "          quickchartButtonEl.style.display =\n",
              "            google.colab.kernel.accessAllowed ? 'block' : 'none';\n",
              "        })();\n",
              "      </script>\n",
              "    </div>\n",
              "\n",
              "    </div>\n",
              "  </div>\n"
            ],
            "application/vnd.google.colaboratory.intrinsic+json": {
              "type": "dataframe",
              "variable_name": "news",
              "summary": "{\n  \"name\": \"news\",\n  \"rows\": 38644,\n  \"fields\": [\n    {\n      \"column\": \"text\",\n      \"properties\": {\n        \"dtype\": \"string\",\n        \"num_unique_values\": 38644,\n        \"samples\": [\n          \"HARARE (Reuters) - A  Zimbabwean court on Friday acquitted a pastor critical of President Robert Mugabe on charges of committing public violence and disorderly conduct. The charge was linked to an address Evan Mawarire made during a demonstration by university students earlier this year. Mawarire, who is also on trial for separate and more serious  charges that he attempted to subvert the government, had been arrested in June after addressing medical students protesting  against an increase in fees. Magistrate Tilda Mazhande said state prosecutors had failed to establish a case against the 40-year-old. Mawarire s High Court trial on subversion charges came to a close on Friday after eight state witnesses testified. His lawyer Harrison Nkomo said he would apply to the judge to have the case dismissed. Meanwhile, police fired teargas during sporadic clashes with a group of protesters demonstrating against cash shortages and economic difficulties in central Harare. Pressure group #Tajamuka called for the demonstration following shortages of fuel and panic buying of basic goods last weekend, which the government blamed on social media for spreading false rumors. A reporter and photographer from the private Daily News newspaper covering the protest were beaten with batons and injured by police, Editor-in-Chief Hama Saburi told Reuters. The two were admitted at a local private hospital. Police spokeswoman Charity Charamba could not be reached for comment. A Reuters witness also saw police firing into the air near an office mall in the central business district frequented by illegal foreign currency traders, forcing people to flee. Finance Minister Patrick Chinamasa on Thursday told parliament that the government published rules allowing police to arrest unlicensed foreign currency traders and those found guilty would face up to ten years in prison. Most spots usually occupied by foreign currency dealers were deserted on Friday. \",\n          \"NEW YORK (Reuters) - A group of Democratic senators took their plans to tackle rising drug costs to President-elect Donald Trump on Tuesday, asking him to work with them and Republicans on the issue. In a letter dated Tuesday, the 19 senators named five areas for cooperation: allowing the Medicare program to negotiate prescription prices, increasing transparency, stopping abusive pricing, passing reform on incentives for innovation and supporting generic competition for branded drugs. Trump\\u2019s focus during the presidential election campaign was not on drug prices but on his promise to \\u201crepeal and replace\\u201d Obamacare, President Barack Obama\\u2019s signature health reform law passed by Democrats in 2010.  But he did talk about allowing Medicare to negotiate drug prices, which is currently prohibited by law, and importing cheaper drugs from other countries. Since elected, Trump promised in an interview with Time magazine that \\u201cI\\u2019m going to bring down drug prices\\u201d but did not say how. In the letter led by Senators Sherrod Brown of Ohio and Al Franken of Minnesota and co-signed by Vermont Senator Bernie Sanders, Minnesota Senator Amy Klobuchar and Massachusetts Senator Elizabeth Warren among others, the group suggested that there would be opportunities in Congress for Trump to steer bipartisan reform. It suggested that the Prescription Drug, Generic Drug, and Biosimilars User Fee Agreement reauthorization, due to be passed in the spring, and \\u201cother health-related legislative priorities\\u201d would be good opportunities.  Republicans have a majority in Congress and is working on a two-part plan to \\u201crepeal and replace\\u201d Obamacare, according to Republican senators. The repeal would take place through the budget reconciliation process, which can pass with 51 votes. For replacement legislation, some Republican senators have said they may seek Democratic support in order to have bipartisan legislation with 60 votes.    \",\n          \"A few months ago, a story of a young African-American girl went viral on social media. The girl is a first grader named Kameria. She was devastated that President Obama would soon be leaving office and her tears appeared all over social media. Kameria isn t the only one. Another little girl s tears are going viral as she whimpers that she  will miss Obama. Abella Tomlin of Beaverton, Oregon, was in the backseat of her car and her mother was listening to the Democratic National Convention. Obama s the only president this four-year-old has ever known, but this was the first time she had to face the hard reality of term limits.The video starts off with Abella seeming to cry over whatever four-year-olds cry over. She asked her mother Andrea if she could watch a movie to  make (her) feel better.  Then, Andrea asked what was wrong and Abella cried,  I miss Obama. Andrea explained:  Abella has been an Obama fan since day one. She has grown up with him as a hero in our household, and as such has always talked about how much she loves him. I was just listening to the DNC speeches, and she asked me what they were talking about. So I explained to her that the country is getting ready to elect a new president. She immediately had tears running down her face and explained to me that Barack Obama was our president and how could we get a new one when we already had one. Source: Daily MailHere s the video: All is not lost for Abella, though. She thinks Hillary Clinton will be a good president.Andrea told Abella that maybe Obama should know how she feels, and she offered to send the President the video. Hopefully, as with Kameria, Abella will soon get an invitation to the White House.Featured image via video screen capture\"\n        ],\n        \"semantic_type\": \"\",\n        \"description\": \"\"\n      }\n    },\n    {\n      \"column\": \"label\",\n      \"properties\": {\n        \"dtype\": \"number\",\n        \"std\": 0,\n        \"min\": 0,\n        \"max\": 1,\n        \"num_unique_values\": 2,\n        \"samples\": [\n          0,\n          1\n        ],\n        \"semantic_type\": \"\",\n        \"description\": \"\"\n      }\n    },\n    {\n      \"column\": \"processed\",\n      \"properties\": {\n        \"dtype\": \"string\",\n        \"num_unique_values\": 38314,\n        \"samples\": [\n          \"brasilia rio de janeiro reuters the government of brazil s president michel temer is far from assembling the coalition needed to pass a landmark pension reform but potential supporters of the measure are now more organized a key legislator said on monday we re still enormously far from having the needed votes but we have a party leader committed a party president committed one party that s set to commit brazil s lower house speaker rodrigo maia told journalists after an event in rio de janeiro pension reform is the cornerstone policy in president temer s efforts to bring brazil s deficit under control but the measure is widely unpopular with brazilians who are accustomed to a relatively expansive welfare net in order to curry support from congress temer and his allies watered down their original proposal in november requiring fewer years of contributions by private sector workers to receive a pension according to several government sources temer s allies have grown more optimistic in the last week about the reform s chances however speed is essential for the bill s passage a congressional recess begins on dec and lawmaking thereafter will be hampered by politics as lawmakers ramp up their campaigns for elections\",\n          \"president trump came out today and said he doesn t have tapes of former fbi director james comey but that the possibility of someone else taping the conversation is there the lefty media went nuts and claimed that trump lied the political analyst on msnbc even compared president trump to a suicide bomber oh the drama from these liberal news analysts elise jordan calls herself a political analyst but we think she s more like a political hack msnbc s craig melvin and jordan were discussing trump s tweet on thursday saying he has no recordings of his private conversations with former fbi director james comey trump had previously suggested such tapes may exist melvin commented earlier in the broadcast i said bluff i said the president was bluffing i may have been perhaps too fair it would seem as if the president may have been lying all along about the existence of these tapes jordan replied he wasted the country s collective time speculating over whether these tapes existed or not it s a sad day when you cannot depend on the president s word my advice would just be to republicans who do cozy up to him it s just like hugging a suicide bomber he blows you up in the process with him melvin replied that s a little strong\"\n        ],\n        \"semantic_type\": \"\",\n        \"description\": \"\"\n      }\n    }\n  ]\n}"
            }
          },
          "metadata": {},
          "execution_count": 15
        }
      ],
      "source": [
        "news[\"processed\"]=news[\"text\"].apply(preprocessing)\n",
        "news.head()"
      ]
    },
    {
      "cell_type": "markdown",
      "id": "756685a4-6d94-4a26-9998-f0ee5a8b9419",
      "metadata": {
        "id": "756685a4-6d94-4a26-9998-f0ee5a8b9419"
      },
      "source": [
        "# Prepare Data"
      ]
    },
    {
      "cell_type": "code",
      "execution_count": null,
      "id": "262f44bb-a4b5-4493-ae2c-f3bcdc896ab1",
      "metadata": {
        "id": "262f44bb-a4b5-4493-ae2c-f3bcdc896ab1"
      },
      "outputs": [],
      "source": [
        "texts = news['processed'].tolist()\n",
        "labels = news['label'].tolist()"
      ]
    },
    {
      "cell_type": "markdown",
      "id": "4e919a32-83d4-4ca0-a103-b30def35b210",
      "metadata": {
        "id": "4e919a32-83d4-4ca0-a103-b30def35b210"
      },
      "source": [
        "# Train_Test_Split"
      ]
    },
    {
      "cell_type": "code",
      "execution_count": null,
      "id": "843522b4-21fa-4f30-8d08-1a2b7b16c343",
      "metadata": {
        "id": "843522b4-21fa-4f30-8d08-1a2b7b16c343"
      },
      "outputs": [],
      "source": [
        "train_texts, test_texts, train_labels, test_labels = train_test_split(texts, labels, test_size=0.2, random_state=2000)"
      ]
    },
    {
      "cell_type": "code",
      "execution_count": null,
      "id": "646b476d-072d-4bcb-a4ca-648e68e74b84",
      "metadata": {
        "id": "646b476d-072d-4bcb-a4ca-648e68e74b84"
      },
      "outputs": [],
      "source": [
        "train_dataset = Dataset.from_dict({\"text\": train_texts, \"label\": train_labels})\n",
        "test_dataset = Dataset.from_dict({\"text\": test_texts, \"label\": test_labels})"
      ]
    },
    {
      "cell_type": "markdown",
      "id": "b49ab4ef-0160-44ca-b51a-f57489a0d174",
      "metadata": {
        "id": "b49ab4ef-0160-44ca-b51a-f57489a0d174"
      },
      "source": [
        "# Tokenizer"
      ]
    },
    {
      "cell_type": "code",
      "execution_count": null,
      "id": "264e9f86-530e-4167-a231-1124bc42efc9",
      "metadata": {
        "id": "264e9f86-530e-4167-a231-1124bc42efc9"
      },
      "outputs": [],
      "source": [
        "tokenizer = DistilBertTokenizer.from_pretrained(\"distilbert-base-uncased\")"
      ]
    },
    {
      "cell_type": "code",
      "execution_count": null,
      "id": "8360b8bf-ac41-42b2-b41b-33173350aedb",
      "metadata": {
        "id": "8360b8bf-ac41-42b2-b41b-33173350aedb"
      },
      "outputs": [],
      "source": [
        "def tokenize(batch):\n",
        "    return tokenizer(batch[\"text\"], padding=\"max_length\", truncation=True, max_length=150)"
      ]
    },
    {
      "cell_type": "code",
      "execution_count": null,
      "id": "f3d2e031-f613-4706-a360-f128feecef40",
      "metadata": {
        "colab": {
          "base_uri": "https://localhost:8080/",
          "height": 81,
          "referenced_widgets": [
            "c020236ef3fa4820b4708820afc067b1",
            "3469425fff6646e892415896e5224234",
            "39c3d2942d814e318e59d10ae3836424",
            "47169c3a23384578accb716abe5bce42",
            "7de49354cd6e4bf4ad62d874eb1236b5",
            "c16569b85ccf41d1bc35e764db656bcd",
            "05086fd19b3e4d338504790d66cbfcc5",
            "759359ec5b0d4d128a362417bfbef7ac",
            "30db09bbccb54365a6cda520727c7f02",
            "efd2a561b0c44bc397fd7daf301393ff",
            "e626129574a44125a506605a61984bde",
            "82a97b4ca6ab48bcb3cb083cb66e0194",
            "e9577128d48e4da383d03ceccad59699",
            "f86c2cce142c4c30ba0e82f071658ed4",
            "91c53fa4a7994990840f81c9c930654f",
            "482cc9010fb34b32a952d5864c8735e6",
            "989edddd191b4cc9b849b1fa9ad28941",
            "9605662f4ec1441da7d29097a28540d2",
            "d29db6c25f9847159019cfaf851703a9",
            "63c1ef4f9d4d4ef497192f30db08158a",
            "faff2eb0ce49421ab4e720035464a844",
            "d9cf956399f149da81bcb9f15b6b68c9"
          ]
        },
        "id": "f3d2e031-f613-4706-a360-f128feecef40",
        "outputId": "fda38c14-796c-4515-a663-8164f8d7ffde"
      },
      "outputs": [
        {
          "output_type": "display_data",
          "data": {
            "text/plain": [
              "Map:   0%|          | 0/30915 [00:00<?, ? examples/s]"
            ],
            "application/vnd.jupyter.widget-view+json": {
              "version_major": 2,
              "version_minor": 0,
              "model_id": "c020236ef3fa4820b4708820afc067b1"
            }
          },
          "metadata": {}
        },
        {
          "output_type": "display_data",
          "data": {
            "text/plain": [
              "Map:   0%|          | 0/7729 [00:00<?, ? examples/s]"
            ],
            "application/vnd.jupyter.widget-view+json": {
              "version_major": 2,
              "version_minor": 0,
              "model_id": "82a97b4ca6ab48bcb3cb083cb66e0194"
            }
          },
          "metadata": {}
        }
      ],
      "source": [
        "train_dataset = train_dataset.map(tokenize, batched=True)\n",
        "test_dataset = test_dataset.map(tokenize, batched=True)"
      ]
    },
    {
      "cell_type": "markdown",
      "id": "0bc6e335-5dbc-4ddd-aed5-5419caa951ab",
      "metadata": {
        "id": "0bc6e335-5dbc-4ddd-aed5-5419caa951ab"
      },
      "source": [
        "# Transformer"
      ]
    },
    {
      "cell_type": "code",
      "execution_count": null,
      "id": "0c52302b-5a9b-4327-aa6c-ace5d393d288",
      "metadata": {
        "colab": {
          "base_uri": "https://localhost:8080/"
        },
        "id": "0c52302b-5a9b-4327-aa6c-ace5d393d288",
        "outputId": "98981f6b-5da7-4bba-efc1-d0b898c83515"
      },
      "outputs": [
        {
          "output_type": "stream",
          "name": "stderr",
          "text": [
            "Some weights of DistilBertForSequenceClassification were not initialized from the model checkpoint at distilbert-base-uncased and are newly initialized: ['classifier.bias', 'classifier.weight', 'pre_classifier.bias', 'pre_classifier.weight']\n",
            "You should probably TRAIN this model on a down-stream task to be able to use it for predictions and inference.\n"
          ]
        }
      ],
      "source": [
        "model = DistilBertForSequenceClassification.from_pretrained(\"distilbert-base-uncased\", num_labels=2)"
      ]
    },
    {
      "cell_type": "code",
      "source": [
        "device = torch.device(\"cuda\" if torch.cuda.is_available() else \"cpu\")\n",
        "model.to(device)"
      ],
      "metadata": {
        "colab": {
          "base_uri": "https://localhost:8080/"
        },
        "id": "A36oZKpAy9uf",
        "outputId": "35464932-1312-47d8-97de-75b430fd8f30"
      },
      "id": "A36oZKpAy9uf",
      "execution_count": null,
      "outputs": [
        {
          "output_type": "execute_result",
          "data": {
            "text/plain": [
              "DistilBertForSequenceClassification(\n",
              "  (distilbert): DistilBertModel(\n",
              "    (embeddings): Embeddings(\n",
              "      (word_embeddings): Embedding(30522, 768, padding_idx=0)\n",
              "      (position_embeddings): Embedding(512, 768)\n",
              "      (LayerNorm): LayerNorm((768,), eps=1e-12, elementwise_affine=True)\n",
              "      (dropout): Dropout(p=0.1, inplace=False)\n",
              "    )\n",
              "    (transformer): Transformer(\n",
              "      (layer): ModuleList(\n",
              "        (0-5): 6 x TransformerBlock(\n",
              "          (attention): DistilBertSdpaAttention(\n",
              "            (dropout): Dropout(p=0.1, inplace=False)\n",
              "            (q_lin): Linear(in_features=768, out_features=768, bias=True)\n",
              "            (k_lin): Linear(in_features=768, out_features=768, bias=True)\n",
              "            (v_lin): Linear(in_features=768, out_features=768, bias=True)\n",
              "            (out_lin): Linear(in_features=768, out_features=768, bias=True)\n",
              "          )\n",
              "          (sa_layer_norm): LayerNorm((768,), eps=1e-12, elementwise_affine=True)\n",
              "          (ffn): FFN(\n",
              "            (dropout): Dropout(p=0.1, inplace=False)\n",
              "            (lin1): Linear(in_features=768, out_features=3072, bias=True)\n",
              "            (lin2): Linear(in_features=3072, out_features=768, bias=True)\n",
              "            (activation): GELUActivation()\n",
              "          )\n",
              "          (output_layer_norm): LayerNorm((768,), eps=1e-12, elementwise_affine=True)\n",
              "        )\n",
              "      )\n",
              "    )\n",
              "  )\n",
              "  (pre_classifier): Linear(in_features=768, out_features=768, bias=True)\n",
              "  (classifier): Linear(in_features=768, out_features=2, bias=True)\n",
              "  (dropout): Dropout(p=0.2, inplace=False)\n",
              ")"
            ]
          },
          "metadata": {},
          "execution_count": 23
        }
      ]
    },
    {
      "cell_type": "code",
      "source": [
        "import transformers\n",
        "print(\"Transformers version:\", transformers.__version__)"
      ],
      "metadata": {
        "colab": {
          "base_uri": "https://localhost:8080/"
        },
        "id": "WXYVit3e0HVF",
        "outputId": "255f9301-2ff9-48cd-b9de-8839ec921cf7"
      },
      "id": "WXYVit3e0HVF",
      "execution_count": null,
      "outputs": [
        {
          "output_type": "stream",
          "name": "stdout",
          "text": [
            "Transformers version: 4.56.0\n"
          ]
        }
      ]
    },
    {
      "cell_type": "code",
      "execution_count": null,
      "id": "b788737d-8525-4a54-98bf-9df655e41009",
      "metadata": {
        "id": "b788737d-8525-4a54-98bf-9df655e41009",
        "colab": {
          "base_uri": "https://localhost:8080/"
        },
        "outputId": "d4a15d27-ac0d-4902-f2e7-402f454842d8"
      },
      "outputs": [
        {
          "output_type": "stream",
          "name": "stderr",
          "text": [
            "Using the `WANDB_DISABLED` environment variable is deprecated and will be removed in v5. Use the --report_to flag to control the integrations used for logging result (for instance --report_to none).\n"
          ]
        }
      ],
      "source": [
        "training_args = TrainingArguments(\n",
        "    output_dir=\"./results\",\n",
        "    eval_strategy=\"steps\",\n",
        "    eval_steps=500,\n",
        "    save_strategy=\"steps\",\n",
        "    save_steps=500,\n",
        "    load_best_model_at_end=True,\n",
        "    metric_for_best_model=\"accuracy\",\n",
        "    greater_is_better=True,\n",
        "    save_total_limit=1,\n",
        "    report_to=None,\n",
        "    per_device_train_batch_size=16,\n",
        "    per_device_eval_batch_size=16,\n",
        "    num_train_epochs=3,\n",
        "    learning_rate=2e-5,\n",
        "    logging_steps=50,\n",
        "    fp16=True,\n",
        ")\n"
      ]
    },
    {
      "cell_type": "code",
      "execution_count": null,
      "id": "c2c96ad8-847d-4f4a-895c-abbae09fcb72",
      "metadata": {
        "id": "c2c96ad8-847d-4f4a-895c-abbae09fcb72"
      },
      "outputs": [],
      "source": [
        "def compute_metrics(eval_pred):\n",
        "    logits, labels = eval_pred\n",
        "    preds = torch.argmax(torch.tensor(logits), dim=-1)\n",
        "    acc = accuracy_score(labels, preds)\n",
        "    precision, recall, f1, _ = precision_recall_fscore_support(labels, preds, average=\"binary\")\n",
        "    return {\"accuracy\": acc, \"precision\": precision, \"recall\": recall, \"f1\": f1}"
      ]
    },
    {
      "cell_type": "markdown",
      "id": "10f3976d-c2e2-4584-ac26-27bceba5cf82",
      "metadata": {
        "id": "10f3976d-c2e2-4584-ac26-27bceba5cf82"
      },
      "source": [
        "# Model"
      ]
    },
    {
      "cell_type": "code",
      "execution_count": null,
      "id": "3453ed12-529b-4652-819c-f6b0b3055e72",
      "metadata": {
        "id": "3453ed12-529b-4652-819c-f6b0b3055e72"
      },
      "outputs": [],
      "source": [
        "trainer = Trainer(\n",
        "    model=model,\n",
        "    args=training_args,\n",
        "    train_dataset=train_dataset,\n",
        "    eval_dataset=test_dataset,\n",
        "    tokenizer=tokenizer,\n",
        "    compute_metrics=compute_metrics,\n",
        ")"
      ]
    },
    {
      "cell_type": "code",
      "execution_count": null,
      "id": "1afd221c-2fbd-434f-91f8-8d125883c423",
      "metadata": {
        "colab": {
          "base_uri": "https://localhost:8080/",
          "height": 472
        },
        "id": "1afd221c-2fbd-434f-91f8-8d125883c423",
        "outputId": "60f6efb0-1470-4114-d89f-6d4e3fa8d668"
      },
      "outputs": [
        {
          "output_type": "display_data",
          "data": {
            "text/plain": [
              "<IPython.core.display.HTML object>"
            ],
            "text/html": [
              "\n",
              "    <div>\n",
              "      \n",
              "      <progress value='5799' max='5799' style='width:300px; height:20px; vertical-align: middle;'></progress>\n",
              "      [5799/5799 13:31, Epoch 3/3]\n",
              "    </div>\n",
              "    <table border=\"1\" class=\"dataframe\">\n",
              "  <thead>\n",
              " <tr style=\"text-align: left;\">\n",
              "      <th>Step</th>\n",
              "      <th>Training Loss</th>\n",
              "      <th>Validation Loss</th>\n",
              "      <th>Accuracy</th>\n",
              "      <th>Precision</th>\n",
              "      <th>Recall</th>\n",
              "      <th>F1</th>\n",
              "    </tr>\n",
              "  </thead>\n",
              "  <tbody>\n",
              "    <tr>\n",
              "      <td>500</td>\n",
              "      <td>0.000000</td>\n",
              "      <td>0.019714</td>\n",
              "      <td>0.998965</td>\n",
              "      <td>0.998585</td>\n",
              "      <td>0.999150</td>\n",
              "      <td>0.998867</td>\n",
              "    </tr>\n",
              "    <tr>\n",
              "      <td>1000</td>\n",
              "      <td>0.000000</td>\n",
              "      <td>0.018240</td>\n",
              "      <td>0.999094</td>\n",
              "      <td>0.998867</td>\n",
              "      <td>0.999150</td>\n",
              "      <td>0.999009</td>\n",
              "    </tr>\n",
              "    <tr>\n",
              "      <td>1500</td>\n",
              "      <td>0.000000</td>\n",
              "      <td>0.018593</td>\n",
              "      <td>0.999094</td>\n",
              "      <td>0.998867</td>\n",
              "      <td>0.999150</td>\n",
              "      <td>0.999009</td>\n",
              "    </tr>\n",
              "    <tr>\n",
              "      <td>2000</td>\n",
              "      <td>0.000000</td>\n",
              "      <td>0.018807</td>\n",
              "      <td>0.999094</td>\n",
              "      <td>0.998867</td>\n",
              "      <td>0.999150</td>\n",
              "      <td>0.999009</td>\n",
              "    </tr>\n",
              "    <tr>\n",
              "      <td>2500</td>\n",
              "      <td>0.000000</td>\n",
              "      <td>0.018971</td>\n",
              "      <td>0.999094</td>\n",
              "      <td>0.998867</td>\n",
              "      <td>0.999150</td>\n",
              "      <td>0.999009</td>\n",
              "    </tr>\n",
              "    <tr>\n",
              "      <td>3000</td>\n",
              "      <td>0.000000</td>\n",
              "      <td>0.019094</td>\n",
              "      <td>0.999094</td>\n",
              "      <td>0.998867</td>\n",
              "      <td>0.999150</td>\n",
              "      <td>0.999009</td>\n",
              "    </tr>\n",
              "    <tr>\n",
              "      <td>3500</td>\n",
              "      <td>0.000000</td>\n",
              "      <td>0.019183</td>\n",
              "      <td>0.999094</td>\n",
              "      <td>0.998867</td>\n",
              "      <td>0.999150</td>\n",
              "      <td>0.999009</td>\n",
              "    </tr>\n",
              "    <tr>\n",
              "      <td>4000</td>\n",
              "      <td>0.000000</td>\n",
              "      <td>0.019254</td>\n",
              "      <td>0.999094</td>\n",
              "      <td>0.998867</td>\n",
              "      <td>0.999150</td>\n",
              "      <td>0.999009</td>\n",
              "    </tr>\n",
              "    <tr>\n",
              "      <td>4500</td>\n",
              "      <td>0.000000</td>\n",
              "      <td>0.019302</td>\n",
              "      <td>0.999094</td>\n",
              "      <td>0.998867</td>\n",
              "      <td>0.999150</td>\n",
              "      <td>0.999009</td>\n",
              "    </tr>\n",
              "    <tr>\n",
              "      <td>5000</td>\n",
              "      <td>0.000000</td>\n",
              "      <td>0.021010</td>\n",
              "      <td>0.998965</td>\n",
              "      <td>0.998303</td>\n",
              "      <td>0.999434</td>\n",
              "      <td>0.998868</td>\n",
              "    </tr>\n",
              "    <tr>\n",
              "      <td>5500</td>\n",
              "      <td>0.000000</td>\n",
              "      <td>0.021016</td>\n",
              "      <td>0.998965</td>\n",
              "      <td>0.998303</td>\n",
              "      <td>0.999434</td>\n",
              "      <td>0.998868</td>\n",
              "    </tr>\n",
              "  </tbody>\n",
              "</table><p>"
            ]
          },
          "metadata": {}
        },
        {
          "output_type": "execute_result",
          "data": {
            "text/plain": [
              "TrainOutput(global_step=5799, training_loss=0.0005110997599370522, metrics={'train_runtime': 811.5278, 'train_samples_per_second': 114.284, 'train_steps_per_second': 7.146, 'total_flos': 3599322916509000.0, 'train_loss': 0.0005110997599370522, 'epoch': 3.0})"
            ]
          },
          "metadata": {},
          "execution_count": 74
        }
      ],
      "source": [
        "trainer.train()"
      ]
    },
    {
      "cell_type": "code",
      "execution_count": null,
      "id": "295634b6-afeb-41c5-bca7-af4f5811db55",
      "metadata": {
        "colab": {
          "base_uri": "https://localhost:8080/",
          "height": 193
        },
        "id": "295634b6-afeb-41c5-bca7-af4f5811db55",
        "outputId": "fb0a7249-f547-48d7-b2e1-0425ab5b7020"
      },
      "outputs": [
        {
          "output_type": "display_data",
          "data": {
            "text/plain": [
              "<IPython.core.display.HTML object>"
            ],
            "text/html": [
              "\n",
              "    <div>\n",
              "      \n",
              "      <progress value='484' max='484' style='width:300px; height:20px; vertical-align: middle;'></progress>\n",
              "      [484/484 00:08]\n",
              "    </div>\n",
              "    "
            ]
          },
          "metadata": {}
        },
        {
          "output_type": "execute_result",
          "data": {
            "text/plain": [
              "{'eval_loss': 0.018239976838231087,\n",
              " 'eval_accuracy': 0.9990943200931557,\n",
              " 'eval_precision': 0.9988674971687429,\n",
              " 'eval_recall': 0.9991503823279524,\n",
              " 'eval_f1': 0.9990089197224975,\n",
              " 'eval_runtime': 8.9865,\n",
              " 'eval_samples_per_second': 860.066,\n",
              " 'eval_steps_per_second': 53.858,\n",
              " 'epoch': 3.0}"
            ]
          },
          "metadata": {},
          "execution_count": 75
        }
      ],
      "source": [
        "trainer.evaluate()"
      ]
    },
    {
      "cell_type": "markdown",
      "id": "2458b9be-77d6-458c-b2a9-3315ba0f0f06",
      "metadata": {
        "id": "2458b9be-77d6-458c-b2a9-3315ba0f0f06"
      },
      "source": [
        "# Save Model"
      ]
    },
    {
      "cell_type": "code",
      "execution_count": null,
      "id": "86c6e4e8-d08b-4405-b3c4-b70fc356d80d",
      "metadata": {
        "colab": {
          "base_uri": "https://localhost:8080/"
        },
        "id": "86c6e4e8-d08b-4405-b3c4-b70fc356d80d",
        "outputId": "18e4ca06-9899-4954-e570-8e1a4b48fdd4"
      },
      "outputs": [
        {
          "output_type": "execute_result",
          "data": {
            "text/plain": [
              "('./fake_news_model/tokenizer_config.json',\n",
              " './fake_news_model/special_tokens_map.json',\n",
              " './fake_news_model/vocab.txt',\n",
              " './fake_news_model/added_tokens.json')"
            ]
          },
          "metadata": {},
          "execution_count": 76
        }
      ],
      "source": [
        "model.save_pretrained(\"./fake_news_model\")\n",
        "tokenizer.save_pretrained(\"./fake_news_model\")"
      ]
    }
  ],
  "metadata": {
    "kernelspec": {
      "display_name": "Python 3",
      "name": "python3"
    },
    "language_info": {
      "codemirror_mode": {
        "name": "ipython",
        "version": 3
      },
      "file_extension": ".py",
      "mimetype": "text/x-python",
      "name": "python",
      "nbconvert_exporter": "python",
      "pygments_lexer": "ipython3",
      "version": "3.12.7"
    },
    "colab": {
      "provenance": [],
      "gpuType": "T4"
    },
    "accelerator": "GPU",
    "widgets": {
      "application/vnd.jupyter.widget-state+json": {
        "c020236ef3fa4820b4708820afc067b1": {
          "model_module": "@jupyter-widgets/controls",
          "model_name": "HBoxModel",
          "model_module_version": "1.5.0",
          "state": {
            "_dom_classes": [],
            "_model_module": "@jupyter-widgets/controls",
            "_model_module_version": "1.5.0",
            "_model_name": "HBoxModel",
            "_view_count": null,
            "_view_module": "@jupyter-widgets/controls",
            "_view_module_version": "1.5.0",
            "_view_name": "HBoxView",
            "box_style": "",
            "children": [
              "IPY_MODEL_3469425fff6646e892415896e5224234",
              "IPY_MODEL_39c3d2942d814e318e59d10ae3836424",
              "IPY_MODEL_47169c3a23384578accb716abe5bce42"
            ],
            "layout": "IPY_MODEL_7de49354cd6e4bf4ad62d874eb1236b5"
          }
        },
        "3469425fff6646e892415896e5224234": {
          "model_module": "@jupyter-widgets/controls",
          "model_name": "HTMLModel",
          "model_module_version": "1.5.0",
          "state": {
            "_dom_classes": [],
            "_model_module": "@jupyter-widgets/controls",
            "_model_module_version": "1.5.0",
            "_model_name": "HTMLModel",
            "_view_count": null,
            "_view_module": "@jupyter-widgets/controls",
            "_view_module_version": "1.5.0",
            "_view_name": "HTMLView",
            "description": "",
            "description_tooltip": null,
            "layout": "IPY_MODEL_c16569b85ccf41d1bc35e764db656bcd",
            "placeholder": "​",
            "style": "IPY_MODEL_05086fd19b3e4d338504790d66cbfcc5",
            "value": "Map: 100%"
          }
        },
        "39c3d2942d814e318e59d10ae3836424": {
          "model_module": "@jupyter-widgets/controls",
          "model_name": "FloatProgressModel",
          "model_module_version": "1.5.0",
          "state": {
            "_dom_classes": [],
            "_model_module": "@jupyter-widgets/controls",
            "_model_module_version": "1.5.0",
            "_model_name": "FloatProgressModel",
            "_view_count": null,
            "_view_module": "@jupyter-widgets/controls",
            "_view_module_version": "1.5.0",
            "_view_name": "ProgressView",
            "bar_style": "success",
            "description": "",
            "description_tooltip": null,
            "layout": "IPY_MODEL_759359ec5b0d4d128a362417bfbef7ac",
            "max": 30915,
            "min": 0,
            "orientation": "horizontal",
            "style": "IPY_MODEL_30db09bbccb54365a6cda520727c7f02",
            "value": 30915
          }
        },
        "47169c3a23384578accb716abe5bce42": {
          "model_module": "@jupyter-widgets/controls",
          "model_name": "HTMLModel",
          "model_module_version": "1.5.0",
          "state": {
            "_dom_classes": [],
            "_model_module": "@jupyter-widgets/controls",
            "_model_module_version": "1.5.0",
            "_model_name": "HTMLModel",
            "_view_count": null,
            "_view_module": "@jupyter-widgets/controls",
            "_view_module_version": "1.5.0",
            "_view_name": "HTMLView",
            "description": "",
            "description_tooltip": null,
            "layout": "IPY_MODEL_efd2a561b0c44bc397fd7daf301393ff",
            "placeholder": "​",
            "style": "IPY_MODEL_e626129574a44125a506605a61984bde",
            "value": " 30915/30915 [03:57&lt;00:00, 139.43 examples/s]"
          }
        },
        "7de49354cd6e4bf4ad62d874eb1236b5": {
          "model_module": "@jupyter-widgets/base",
          "model_name": "LayoutModel",
          "model_module_version": "1.2.0",
          "state": {
            "_model_module": "@jupyter-widgets/base",
            "_model_module_version": "1.2.0",
            "_model_name": "LayoutModel",
            "_view_count": null,
            "_view_module": "@jupyter-widgets/base",
            "_view_module_version": "1.2.0",
            "_view_name": "LayoutView",
            "align_content": null,
            "align_items": null,
            "align_self": null,
            "border": null,
            "bottom": null,
            "display": null,
            "flex": null,
            "flex_flow": null,
            "grid_area": null,
            "grid_auto_columns": null,
            "grid_auto_flow": null,
            "grid_auto_rows": null,
            "grid_column": null,
            "grid_gap": null,
            "grid_row": null,
            "grid_template_areas": null,
            "grid_template_columns": null,
            "grid_template_rows": null,
            "height": null,
            "justify_content": null,
            "justify_items": null,
            "left": null,
            "margin": null,
            "max_height": null,
            "max_width": null,
            "min_height": null,
            "min_width": null,
            "object_fit": null,
            "object_position": null,
            "order": null,
            "overflow": null,
            "overflow_x": null,
            "overflow_y": null,
            "padding": null,
            "right": null,
            "top": null,
            "visibility": null,
            "width": null
          }
        },
        "c16569b85ccf41d1bc35e764db656bcd": {
          "model_module": "@jupyter-widgets/base",
          "model_name": "LayoutModel",
          "model_module_version": "1.2.0",
          "state": {
            "_model_module": "@jupyter-widgets/base",
            "_model_module_version": "1.2.0",
            "_model_name": "LayoutModel",
            "_view_count": null,
            "_view_module": "@jupyter-widgets/base",
            "_view_module_version": "1.2.0",
            "_view_name": "LayoutView",
            "align_content": null,
            "align_items": null,
            "align_self": null,
            "border": null,
            "bottom": null,
            "display": null,
            "flex": null,
            "flex_flow": null,
            "grid_area": null,
            "grid_auto_columns": null,
            "grid_auto_flow": null,
            "grid_auto_rows": null,
            "grid_column": null,
            "grid_gap": null,
            "grid_row": null,
            "grid_template_areas": null,
            "grid_template_columns": null,
            "grid_template_rows": null,
            "height": null,
            "justify_content": null,
            "justify_items": null,
            "left": null,
            "margin": null,
            "max_height": null,
            "max_width": null,
            "min_height": null,
            "min_width": null,
            "object_fit": null,
            "object_position": null,
            "order": null,
            "overflow": null,
            "overflow_x": null,
            "overflow_y": null,
            "padding": null,
            "right": null,
            "top": null,
            "visibility": null,
            "width": null
          }
        },
        "05086fd19b3e4d338504790d66cbfcc5": {
          "model_module": "@jupyter-widgets/controls",
          "model_name": "DescriptionStyleModel",
          "model_module_version": "1.5.0",
          "state": {
            "_model_module": "@jupyter-widgets/controls",
            "_model_module_version": "1.5.0",
            "_model_name": "DescriptionStyleModel",
            "_view_count": null,
            "_view_module": "@jupyter-widgets/base",
            "_view_module_version": "1.2.0",
            "_view_name": "StyleView",
            "description_width": ""
          }
        },
        "759359ec5b0d4d128a362417bfbef7ac": {
          "model_module": "@jupyter-widgets/base",
          "model_name": "LayoutModel",
          "model_module_version": "1.2.0",
          "state": {
            "_model_module": "@jupyter-widgets/base",
            "_model_module_version": "1.2.0",
            "_model_name": "LayoutModel",
            "_view_count": null,
            "_view_module": "@jupyter-widgets/base",
            "_view_module_version": "1.2.0",
            "_view_name": "LayoutView",
            "align_content": null,
            "align_items": null,
            "align_self": null,
            "border": null,
            "bottom": null,
            "display": null,
            "flex": null,
            "flex_flow": null,
            "grid_area": null,
            "grid_auto_columns": null,
            "grid_auto_flow": null,
            "grid_auto_rows": null,
            "grid_column": null,
            "grid_gap": null,
            "grid_row": null,
            "grid_template_areas": null,
            "grid_template_columns": null,
            "grid_template_rows": null,
            "height": null,
            "justify_content": null,
            "justify_items": null,
            "left": null,
            "margin": null,
            "max_height": null,
            "max_width": null,
            "min_height": null,
            "min_width": null,
            "object_fit": null,
            "object_position": null,
            "order": null,
            "overflow": null,
            "overflow_x": null,
            "overflow_y": null,
            "padding": null,
            "right": null,
            "top": null,
            "visibility": null,
            "width": null
          }
        },
        "30db09bbccb54365a6cda520727c7f02": {
          "model_module": "@jupyter-widgets/controls",
          "model_name": "ProgressStyleModel",
          "model_module_version": "1.5.0",
          "state": {
            "_model_module": "@jupyter-widgets/controls",
            "_model_module_version": "1.5.0",
            "_model_name": "ProgressStyleModel",
            "_view_count": null,
            "_view_module": "@jupyter-widgets/base",
            "_view_module_version": "1.2.0",
            "_view_name": "StyleView",
            "bar_color": null,
            "description_width": ""
          }
        },
        "efd2a561b0c44bc397fd7daf301393ff": {
          "model_module": "@jupyter-widgets/base",
          "model_name": "LayoutModel",
          "model_module_version": "1.2.0",
          "state": {
            "_model_module": "@jupyter-widgets/base",
            "_model_module_version": "1.2.0",
            "_model_name": "LayoutModel",
            "_view_count": null,
            "_view_module": "@jupyter-widgets/base",
            "_view_module_version": "1.2.0",
            "_view_name": "LayoutView",
            "align_content": null,
            "align_items": null,
            "align_self": null,
            "border": null,
            "bottom": null,
            "display": null,
            "flex": null,
            "flex_flow": null,
            "grid_area": null,
            "grid_auto_columns": null,
            "grid_auto_flow": null,
            "grid_auto_rows": null,
            "grid_column": null,
            "grid_gap": null,
            "grid_row": null,
            "grid_template_areas": null,
            "grid_template_columns": null,
            "grid_template_rows": null,
            "height": null,
            "justify_content": null,
            "justify_items": null,
            "left": null,
            "margin": null,
            "max_height": null,
            "max_width": null,
            "min_height": null,
            "min_width": null,
            "object_fit": null,
            "object_position": null,
            "order": null,
            "overflow": null,
            "overflow_x": null,
            "overflow_y": null,
            "padding": null,
            "right": null,
            "top": null,
            "visibility": null,
            "width": null
          }
        },
        "e626129574a44125a506605a61984bde": {
          "model_module": "@jupyter-widgets/controls",
          "model_name": "DescriptionStyleModel",
          "model_module_version": "1.5.0",
          "state": {
            "_model_module": "@jupyter-widgets/controls",
            "_model_module_version": "1.5.0",
            "_model_name": "DescriptionStyleModel",
            "_view_count": null,
            "_view_module": "@jupyter-widgets/base",
            "_view_module_version": "1.2.0",
            "_view_name": "StyleView",
            "description_width": ""
          }
        },
        "82a97b4ca6ab48bcb3cb083cb66e0194": {
          "model_module": "@jupyter-widgets/controls",
          "model_name": "HBoxModel",
          "model_module_version": "1.5.0",
          "state": {
            "_dom_classes": [],
            "_model_module": "@jupyter-widgets/controls",
            "_model_module_version": "1.5.0",
            "_model_name": "HBoxModel",
            "_view_count": null,
            "_view_module": "@jupyter-widgets/controls",
            "_view_module_version": "1.5.0",
            "_view_name": "HBoxView",
            "box_style": "",
            "children": [
              "IPY_MODEL_e9577128d48e4da383d03ceccad59699",
              "IPY_MODEL_f86c2cce142c4c30ba0e82f071658ed4",
              "IPY_MODEL_91c53fa4a7994990840f81c9c930654f"
            ],
            "layout": "IPY_MODEL_482cc9010fb34b32a952d5864c8735e6"
          }
        },
        "e9577128d48e4da383d03ceccad59699": {
          "model_module": "@jupyter-widgets/controls",
          "model_name": "HTMLModel",
          "model_module_version": "1.5.0",
          "state": {
            "_dom_classes": [],
            "_model_module": "@jupyter-widgets/controls",
            "_model_module_version": "1.5.0",
            "_model_name": "HTMLModel",
            "_view_count": null,
            "_view_module": "@jupyter-widgets/controls",
            "_view_module_version": "1.5.0",
            "_view_name": "HTMLView",
            "description": "",
            "description_tooltip": null,
            "layout": "IPY_MODEL_989edddd191b4cc9b849b1fa9ad28941",
            "placeholder": "​",
            "style": "IPY_MODEL_9605662f4ec1441da7d29097a28540d2",
            "value": "Map: 100%"
          }
        },
        "f86c2cce142c4c30ba0e82f071658ed4": {
          "model_module": "@jupyter-widgets/controls",
          "model_name": "FloatProgressModel",
          "model_module_version": "1.5.0",
          "state": {
            "_dom_classes": [],
            "_model_module": "@jupyter-widgets/controls",
            "_model_module_version": "1.5.0",
            "_model_name": "FloatProgressModel",
            "_view_count": null,
            "_view_module": "@jupyter-widgets/controls",
            "_view_module_version": "1.5.0",
            "_view_name": "ProgressView",
            "bar_style": "success",
            "description": "",
            "description_tooltip": null,
            "layout": "IPY_MODEL_d29db6c25f9847159019cfaf851703a9",
            "max": 7729,
            "min": 0,
            "orientation": "horizontal",
            "style": "IPY_MODEL_63c1ef4f9d4d4ef497192f30db08158a",
            "value": 7729
          }
        },
        "91c53fa4a7994990840f81c9c930654f": {
          "model_module": "@jupyter-widgets/controls",
          "model_name": "HTMLModel",
          "model_module_version": "1.5.0",
          "state": {
            "_dom_classes": [],
            "_model_module": "@jupyter-widgets/controls",
            "_model_module_version": "1.5.0",
            "_model_name": "HTMLModel",
            "_view_count": null,
            "_view_module": "@jupyter-widgets/controls",
            "_view_module_version": "1.5.0",
            "_view_name": "HTMLView",
            "description": "",
            "description_tooltip": null,
            "layout": "IPY_MODEL_faff2eb0ce49421ab4e720035464a844",
            "placeholder": "​",
            "style": "IPY_MODEL_d9cf956399f149da81bcb9f15b6b68c9",
            "value": " 7729/7729 [00:53&lt;00:00, 145.58 examples/s]"
          }
        },
        "482cc9010fb34b32a952d5864c8735e6": {
          "model_module": "@jupyter-widgets/base",
          "model_name": "LayoutModel",
          "model_module_version": "1.2.0",
          "state": {
            "_model_module": "@jupyter-widgets/base",
            "_model_module_version": "1.2.0",
            "_model_name": "LayoutModel",
            "_view_count": null,
            "_view_module": "@jupyter-widgets/base",
            "_view_module_version": "1.2.0",
            "_view_name": "LayoutView",
            "align_content": null,
            "align_items": null,
            "align_self": null,
            "border": null,
            "bottom": null,
            "display": null,
            "flex": null,
            "flex_flow": null,
            "grid_area": null,
            "grid_auto_columns": null,
            "grid_auto_flow": null,
            "grid_auto_rows": null,
            "grid_column": null,
            "grid_gap": null,
            "grid_row": null,
            "grid_template_areas": null,
            "grid_template_columns": null,
            "grid_template_rows": null,
            "height": null,
            "justify_content": null,
            "justify_items": null,
            "left": null,
            "margin": null,
            "max_height": null,
            "max_width": null,
            "min_height": null,
            "min_width": null,
            "object_fit": null,
            "object_position": null,
            "order": null,
            "overflow": null,
            "overflow_x": null,
            "overflow_y": null,
            "padding": null,
            "right": null,
            "top": null,
            "visibility": null,
            "width": null
          }
        },
        "989edddd191b4cc9b849b1fa9ad28941": {
          "model_module": "@jupyter-widgets/base",
          "model_name": "LayoutModel",
          "model_module_version": "1.2.0",
          "state": {
            "_model_module": "@jupyter-widgets/base",
            "_model_module_version": "1.2.0",
            "_model_name": "LayoutModel",
            "_view_count": null,
            "_view_module": "@jupyter-widgets/base",
            "_view_module_version": "1.2.0",
            "_view_name": "LayoutView",
            "align_content": null,
            "align_items": null,
            "align_self": null,
            "border": null,
            "bottom": null,
            "display": null,
            "flex": null,
            "flex_flow": null,
            "grid_area": null,
            "grid_auto_columns": null,
            "grid_auto_flow": null,
            "grid_auto_rows": null,
            "grid_column": null,
            "grid_gap": null,
            "grid_row": null,
            "grid_template_areas": null,
            "grid_template_columns": null,
            "grid_template_rows": null,
            "height": null,
            "justify_content": null,
            "justify_items": null,
            "left": null,
            "margin": null,
            "max_height": null,
            "max_width": null,
            "min_height": null,
            "min_width": null,
            "object_fit": null,
            "object_position": null,
            "order": null,
            "overflow": null,
            "overflow_x": null,
            "overflow_y": null,
            "padding": null,
            "right": null,
            "top": null,
            "visibility": null,
            "width": null
          }
        },
        "9605662f4ec1441da7d29097a28540d2": {
          "model_module": "@jupyter-widgets/controls",
          "model_name": "DescriptionStyleModel",
          "model_module_version": "1.5.0",
          "state": {
            "_model_module": "@jupyter-widgets/controls",
            "_model_module_version": "1.5.0",
            "_model_name": "DescriptionStyleModel",
            "_view_count": null,
            "_view_module": "@jupyter-widgets/base",
            "_view_module_version": "1.2.0",
            "_view_name": "StyleView",
            "description_width": ""
          }
        },
        "d29db6c25f9847159019cfaf851703a9": {
          "model_module": "@jupyter-widgets/base",
          "model_name": "LayoutModel",
          "model_module_version": "1.2.0",
          "state": {
            "_model_module": "@jupyter-widgets/base",
            "_model_module_version": "1.2.0",
            "_model_name": "LayoutModel",
            "_view_count": null,
            "_view_module": "@jupyter-widgets/base",
            "_view_module_version": "1.2.0",
            "_view_name": "LayoutView",
            "align_content": null,
            "align_items": null,
            "align_self": null,
            "border": null,
            "bottom": null,
            "display": null,
            "flex": null,
            "flex_flow": null,
            "grid_area": null,
            "grid_auto_columns": null,
            "grid_auto_flow": null,
            "grid_auto_rows": null,
            "grid_column": null,
            "grid_gap": null,
            "grid_row": null,
            "grid_template_areas": null,
            "grid_template_columns": null,
            "grid_template_rows": null,
            "height": null,
            "justify_content": null,
            "justify_items": null,
            "left": null,
            "margin": null,
            "max_height": null,
            "max_width": null,
            "min_height": null,
            "min_width": null,
            "object_fit": null,
            "object_position": null,
            "order": null,
            "overflow": null,
            "overflow_x": null,
            "overflow_y": null,
            "padding": null,
            "right": null,
            "top": null,
            "visibility": null,
            "width": null
          }
        },
        "63c1ef4f9d4d4ef497192f30db08158a": {
          "model_module": "@jupyter-widgets/controls",
          "model_name": "ProgressStyleModel",
          "model_module_version": "1.5.0",
          "state": {
            "_model_module": "@jupyter-widgets/controls",
            "_model_module_version": "1.5.0",
            "_model_name": "ProgressStyleModel",
            "_view_count": null,
            "_view_module": "@jupyter-widgets/base",
            "_view_module_version": "1.2.0",
            "_view_name": "StyleView",
            "bar_color": null,
            "description_width": ""
          }
        },
        "faff2eb0ce49421ab4e720035464a844": {
          "model_module": "@jupyter-widgets/base",
          "model_name": "LayoutModel",
          "model_module_version": "1.2.0",
          "state": {
            "_model_module": "@jupyter-widgets/base",
            "_model_module_version": "1.2.0",
            "_model_name": "LayoutModel",
            "_view_count": null,
            "_view_module": "@jupyter-widgets/base",
            "_view_module_version": "1.2.0",
            "_view_name": "LayoutView",
            "align_content": null,
            "align_items": null,
            "align_self": null,
            "border": null,
            "bottom": null,
            "display": null,
            "flex": null,
            "flex_flow": null,
            "grid_area": null,
            "grid_auto_columns": null,
            "grid_auto_flow": null,
            "grid_auto_rows": null,
            "grid_column": null,
            "grid_gap": null,
            "grid_row": null,
            "grid_template_areas": null,
            "grid_template_columns": null,
            "grid_template_rows": null,
            "height": null,
            "justify_content": null,
            "justify_items": null,
            "left": null,
            "margin": null,
            "max_height": null,
            "max_width": null,
            "min_height": null,
            "min_width": null,
            "object_fit": null,
            "object_position": null,
            "order": null,
            "overflow": null,
            "overflow_x": null,
            "overflow_y": null,
            "padding": null,
            "right": null,
            "top": null,
            "visibility": null,
            "width": null
          }
        },
        "d9cf956399f149da81bcb9f15b6b68c9": {
          "model_module": "@jupyter-widgets/controls",
          "model_name": "DescriptionStyleModel",
          "model_module_version": "1.5.0",
          "state": {
            "_model_module": "@jupyter-widgets/controls",
            "_model_module_version": "1.5.0",
            "_model_name": "DescriptionStyleModel",
            "_view_count": null,
            "_view_module": "@jupyter-widgets/base",
            "_view_module_version": "1.2.0",
            "_view_name": "StyleView",
            "description_width": ""
          }
        }
      }
    }
  },
  "nbformat": 4,
  "nbformat_minor": 5
}